{
  "cells": [
    {
      "cell_type": "raw",
      "metadata": {},
      "source": [
        "---\n",
        "title: Weather Gurus\n",
        "subtitle: INFO 523 - Project 1\n",
        "author: 'Omid Zandi, Mohammad Farmani, Priom Mahmud, Praveen Kumar Pappala, Deema Albluwi, and Remi Hendershott'\n",
        "format: html\n",
        "editor: visual\n",
        "---"
      ],
      "id": "fb45f11c"
    },
    {
      "cell_type": "markdown",
      "metadata": {},
      "source": [
        "## Abstract\n",
        "\n",
        "The dataset is provided by NASA by combining land-surface, sea surface, and air temperature anomalies. The values in the dataset are deviations from the corresponding 1951-1980 means, indicating how much warmer or colder it is than normal for a particular place and time, and the normal means the average over the 30 years 1951-1980 for that place and time of year. More precisely, the base 1951-1980 mean is subtracted from the absolute temperature to get the anomaly.\n",
        "\n",
        "The dataset contains four CSV files, providing temperature anomalies across different spatial and temporal scales for a long period from 1880 to 2022. We'll analyze yearly temperature anomalies using the J-D column from global_temps.csv, nh_temps.csv, and sh_temps.csv datasets to assess global and hemispheric trends. Additionally, we'll focus on seasonal anomalies, examining DJF and JJA for the Northern Hemisphere and their inverted counterparts for the Southern Hemisphere. To enrich our analysis, we'll integrate 2023 temperature anomaly data from NASA's GISS Surface Temperature Analysis, calculating both yearly and seasonal anomalies for that year.\n",
        "\n",
        "## Question 1: How have zonal annual temperatures changed over the years? Can we detect any latitudinal pattern? When was the hottest year on record?\n",
        "\n",
        "Introduction: We used variables inside the zonnan_temps.csv dataset. Initially, we transformed the data from a wide format to a long format by defining a new column called zones and merging all eight variables related to zones (i.e. 24N-44N, …) to that column. As we are focusing on annual zonal anomalies in this question, we can skip Glob, NHem, and SHem variables. Finally, we have a dataframe with three columns representing year, zone, and the last contains the anomalies. We created a time series for each zone to visualize the pattern of zonal annual temperature anomalies, emphasizing any noticeable trends or deviation from zonal long-term mean anomaly. We used heatmaps to illustrate how zonal annual temperature anomalies vary across countries and oceans, revealing which hemisphere exhibits more erratic behavior.\n",
        "\n",
        "Approach: We'll conduct time series analysis to contrast 2023 temperature anomalies with past data, providing insights into any deviations or patterns. Trend analysis will allow us to examine temperature anomaly trends over the years, including 2023, highlighting long-term changes. \n",
        "\n",
        "Analysis: \n",
        "\n",
        "Discussion: \n",
        "\n",
        "## Question 2: How have the hemispheric seasonal (monthly) temperatures changed over the years? Can we detect any upward or downward trend in any seasons (months) and any of the hemispheres? Which seasons (months) show more erratic behavior?\n",
        "\n",
        "Introduction: We will use nh_temps.csv and sh_temps.csv datasets. We should start by converting the dataset of each hemisphere to a long format by defining one new column for month (season) and one column that shows the hemispheres (NH and SH). Finally, we can merge the data frames vertically to arrive at a one comprehensive dataframe. We can compare the pattern of seasonal temperature anomalies over the Northern and Southern hemispheres separately and collectively. We can use time series, box plots, or histograms to illustrate and compare the time series and statistical distribution of seasonal temperature anomalies in the northern and southern hemispheres to discuss how different and similar they are. It may be interesting to create a similar visualization to the previous question with deviation from long-term anomalies. This would not only capture how seasonal temperatures have strayed from some long-term average, but how temperatures are fluctuating relative to even temporally local averages. \n",
        "\n",
        "Approach: We'll perform comparative analysis by comparing 2023 average temperature anomalies with historical peaks, both globally and hemispherically, while also scrutinizing seasonal variations to deepen our understanding.\n",
        "\n",
        "Analysis: \n",
        "\n",
        "Discussion: \n"
      ],
      "id": "9b645d2f"
    }
  ],
  "metadata": {
    "kernelspec": {
      "name": "python3",
      "language": "python",
      "display_name": "Python 3 (ipykernel)"
    }
  },
  "nbformat": 4,
  "nbformat_minor": 5
}